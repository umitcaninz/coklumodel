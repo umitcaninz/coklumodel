{
 "cells": [
  {
   "cell_type": "markdown",
   "id": "83bc2059",
   "metadata": {},
   "source": [
    "# Model Seçimi "
   ]
  },
  {
   "cell_type": "markdown",
   "id": "67d7d5bf",
   "metadata": {},
   "source": [
    "## Genelde çok sayıda bağımsız değişken arasından bağımlı değişkeni en iyi tahmin edecek kombinasyonu bulmaya çalışırız . Bunun için iki genel yöntem vardır . İlk olarak bütün değişkenler arasında olası tüm kombinasyonlar denenir ve en iyi sonuç veren model seçilir.\n",
    "\n",
    "## Kapsamlı arama olarak isimlendirilen bu yöntem sonuç açısından en sağlıklı yöntem olsa da program çalışma süresi çok uzun olacağı için uygulanması pek mümkün değildir.\n",
    "<br>\n",
    "\n",
    "\n",
    "## Örneğin 25 tane bağımsız değişken arasından en iyi sonucu verecek kombinasyonu bulmak için 2 değişkenli modellerden başlayarak değişken sayısını birer arttırdığımızı varsayalım. Örneğin 5 değişkenli modellerin hepsini hesaplamak için olası model sayısı\n",
    "### (25 5 )  =   (25! / 20!5!) = 53.310 olacaktır ."
   ]
  },
  {
   "cell_type": "code",
   "execution_count": 1,
   "id": "e0dcff24",
   "metadata": {},
   "outputs": [],
   "source": [
    "import numpy as np\n",
    "import pandas as pd\n",
    "degisken = pd.DataFrame({\n",
    "    \"Degisken Sayisi\" : [2,3,4,5,6,7,8,9,10,11,12,13,14,15],\n",
    "    \"Model Sayisi\" : [300,2.3,12.65,53.13,177.1,480.7,1081.575,2042.975,3268.760,4457.400,5200.300,5200.30,4457.400,3268.760]\n",
    "    \n",
    "})"
   ]
  },
  {
   "cell_type": "code",
   "execution_count": 2,
   "id": "b045e3a5",
   "metadata": {},
   "outputs": [
    {
     "data": {
      "text/html": [
       "<div>\n",
       "<style scoped>\n",
       "    .dataframe tbody tr th:only-of-type {\n",
       "        vertical-align: middle;\n",
       "    }\n",
       "\n",
       "    .dataframe tbody tr th {\n",
       "        vertical-align: top;\n",
       "    }\n",
       "\n",
       "    .dataframe thead th {\n",
       "        text-align: right;\n",
       "    }\n",
       "</style>\n",
       "<table border=\"1\" class=\"dataframe\">\n",
       "  <thead>\n",
       "    <tr style=\"text-align: right;\">\n",
       "      <th></th>\n",
       "      <th>Degisken Sayisi</th>\n",
       "      <th>Model Sayisi</th>\n",
       "    </tr>\n",
       "  </thead>\n",
       "  <tbody>\n",
       "    <tr>\n",
       "      <th>0</th>\n",
       "      <td>2</td>\n",
       "      <td>300.000</td>\n",
       "    </tr>\n",
       "    <tr>\n",
       "      <th>1</th>\n",
       "      <td>3</td>\n",
       "      <td>2.300</td>\n",
       "    </tr>\n",
       "    <tr>\n",
       "      <th>2</th>\n",
       "      <td>4</td>\n",
       "      <td>12.650</td>\n",
       "    </tr>\n",
       "    <tr>\n",
       "      <th>3</th>\n",
       "      <td>5</td>\n",
       "      <td>53.130</td>\n",
       "    </tr>\n",
       "    <tr>\n",
       "      <th>4</th>\n",
       "      <td>6</td>\n",
       "      <td>177.100</td>\n",
       "    </tr>\n",
       "    <tr>\n",
       "      <th>5</th>\n",
       "      <td>7</td>\n",
       "      <td>480.700</td>\n",
       "    </tr>\n",
       "    <tr>\n",
       "      <th>6</th>\n",
       "      <td>8</td>\n",
       "      <td>1081.575</td>\n",
       "    </tr>\n",
       "    <tr>\n",
       "      <th>7</th>\n",
       "      <td>9</td>\n",
       "      <td>2042.975</td>\n",
       "    </tr>\n",
       "    <tr>\n",
       "      <th>8</th>\n",
       "      <td>10</td>\n",
       "      <td>3268.760</td>\n",
       "    </tr>\n",
       "    <tr>\n",
       "      <th>9</th>\n",
       "      <td>11</td>\n",
       "      <td>4457.400</td>\n",
       "    </tr>\n",
       "    <tr>\n",
       "      <th>10</th>\n",
       "      <td>12</td>\n",
       "      <td>5200.300</td>\n",
       "    </tr>\n",
       "    <tr>\n",
       "      <th>11</th>\n",
       "      <td>13</td>\n",
       "      <td>5200.300</td>\n",
       "    </tr>\n",
       "    <tr>\n",
       "      <th>12</th>\n",
       "      <td>14</td>\n",
       "      <td>4457.400</td>\n",
       "    </tr>\n",
       "    <tr>\n",
       "      <th>13</th>\n",
       "      <td>15</td>\n",
       "      <td>3268.760</td>\n",
       "    </tr>\n",
       "  </tbody>\n",
       "</table>\n",
       "</div>"
      ],
      "text/plain": [
       "    Degisken Sayisi  Model Sayisi\n",
       "0                 2       300.000\n",
       "1                 3         2.300\n",
       "2                 4        12.650\n",
       "3                 5        53.130\n",
       "4                 6       177.100\n",
       "5                 7       480.700\n",
       "6                 8      1081.575\n",
       "7                 9      2042.975\n",
       "8                10      3268.760\n",
       "9                11      4457.400\n",
       "10               12      5200.300\n",
       "11               13      5200.300\n",
       "12               14      4457.400\n",
       "13               15      3268.760"
      ]
     },
     "execution_count": 2,
     "metadata": {},
     "output_type": "execute_result"
    }
   ],
   "source": [
    "degisken"
   ]
  },
  {
   "cell_type": "markdown",
   "id": "76d36146",
   "metadata": {},
   "source": [
    "## 20 değişken seçeceğimizi varsayarsak 33.554.406 model olacaktır . Bir modelin 0.1 saniyede hesaplandığını varsayarsak toplam hesaplanmasüresi 39 gün olacaktır bundan dolayı bütün değişkenleri eleme sürecinden geçirmek pek mümkün değildir. \n",
    "## Uygulanacak bir çözüm bağımsız değişkenlerin her birinin bağımlı değişkenle korelasyonuna bakarak en yüksek korelasyona sahip değişkenleri seçmek olabilir."
   ]
  },
  {
   "cell_type": "markdown",
   "id": "9ef7b46a",
   "metadata": {},
   "source": [
    "<br>\n"
   ]
  },
  {
   "cell_type": "markdown",
   "id": "c3142638",
   "metadata": {},
   "source": [
    "##  Bir diğer kullanılan genel yöntem ise adım adım model seçme yöntemi (stepwise) model seçme olarak isimlendirilir. \n",
    "## Bu yöntemde iki değişkenli modellerden başlayarak her  defasında en iyi modeli seçip bir değişken ekleyerek adım adım ilermektir. Yine 25 bağımsız değişkenimizin olduğunu varsayalım iki değişkenli tüm modeller incelenerek başarı yöntemlerine göre en iyi model seçilir ve geriye kalan değişkenler bu modele tek tek eklenerek önceki modele göre gelişme olup olmadığı test edilir. Bu ekleme işlemi model performansı gelişmeye devam ettikçe devam eder."
   ]
  },
  {
   "cell_type": "markdown",
   "id": "b5b0e7d1",
   "metadata": {},
   "source": [
    "<br>\n",
    "<br>"
   ]
  },
  {
   "cell_type": "markdown",
   "id": "0964d751",
   "metadata": {},
   "source": [
    "## Model başarı değerlendirme yöntemlerine göz atıp devam edelim ."
   ]
  },
  {
   "cell_type": "markdown",
   "id": "624d2e0c",
   "metadata": {},
   "source": [
    "<br>\n",
    "<br>"
   ]
  },
  {
   "cell_type": "markdown",
   "id": "33e8fad4",
   "metadata": {},
   "source": [
    "# --------------------------------------------------------------------------------------------"
   ]
  },
  {
   "cell_type": "markdown",
   "id": "eae6b790",
   "metadata": {},
   "source": [
    "## Model Başarı Değerlendirme Yöntemleri\n"
   ]
  },
  {
   "cell_type": "markdown",
   "id": "32956160",
   "metadata": {},
   "source": [
    "## R² "
   ]
  },
  {
   "cell_type": "markdown",
   "id": "2bd38617",
   "metadata": {},
   "source": [
    "### R² belirtme katsayısı , açıklama oranı olarak adlandırılır. Bağımlı değişkendeki değişimin yüzde kaçı bağımsız değişken tarafından açıklanmaktadır sorusunun cevabını verir . \n",
    "### SSr = Regresyon Kareler Toplamı \n",
    "### SSt = Toplam Kareler Toplamı\n",
    "### SSres = Hata Kareler Toplamı\n",
    "\n",
    "### R² = 1 - SSres / SSt ya da SSr / SSt olarak hesaplanır.\n"
   ]
  },
  {
   "cell_type": "code",
   "execution_count": 3,
   "id": "0da36c3b",
   "metadata": {},
   "outputs": [
    {
     "data": {
      "text/html": [
       "<div>\n",
       "<style scoped>\n",
       "    .dataframe tbody tr th:only-of-type {\n",
       "        vertical-align: middle;\n",
       "    }\n",
       "\n",
       "    .dataframe tbody tr th {\n",
       "        vertical-align: top;\n",
       "    }\n",
       "\n",
       "    .dataframe thead th {\n",
       "        text-align: right;\n",
       "    }\n",
       "</style>\n",
       "<table border=\"1\" class=\"dataframe\">\n",
       "  <thead>\n",
       "    <tr style=\"text-align: right;\">\n",
       "      <th></th>\n",
       "      <th>CRIM</th>\n",
       "      <th>ZN</th>\n",
       "      <th>INDUS</th>\n",
       "      <th>CHAS</th>\n",
       "      <th>NOX</th>\n",
       "      <th>RM</th>\n",
       "      <th>AGE</th>\n",
       "      <th>DIS</th>\n",
       "      <th>RAD</th>\n",
       "      <th>TAX</th>\n",
       "      <th>PTRATIO</th>\n",
       "      <th>B</th>\n",
       "      <th>LSTAT</th>\n",
       "      <th>MEDV</th>\n",
       "    </tr>\n",
       "  </thead>\n",
       "  <tbody>\n",
       "    <tr>\n",
       "      <th>0</th>\n",
       "      <td>0.00632</td>\n",
       "      <td>18.0</td>\n",
       "      <td>2.31</td>\n",
       "      <td>0</td>\n",
       "      <td>0.538</td>\n",
       "      <td>6.575</td>\n",
       "      <td>65.2</td>\n",
       "      <td>4.0900</td>\n",
       "      <td>1</td>\n",
       "      <td>296.0</td>\n",
       "      <td>15.3</td>\n",
       "      <td>396.90</td>\n",
       "      <td>4.98</td>\n",
       "      <td>24.0</td>\n",
       "    </tr>\n",
       "    <tr>\n",
       "      <th>1</th>\n",
       "      <td>0.02731</td>\n",
       "      <td>0.0</td>\n",
       "      <td>7.07</td>\n",
       "      <td>0</td>\n",
       "      <td>0.469</td>\n",
       "      <td>6.421</td>\n",
       "      <td>78.9</td>\n",
       "      <td>4.9671</td>\n",
       "      <td>2</td>\n",
       "      <td>242.0</td>\n",
       "      <td>17.8</td>\n",
       "      <td>396.90</td>\n",
       "      <td>9.14</td>\n",
       "      <td>21.6</td>\n",
       "    </tr>\n",
       "    <tr>\n",
       "      <th>2</th>\n",
       "      <td>0.02729</td>\n",
       "      <td>0.0</td>\n",
       "      <td>7.07</td>\n",
       "      <td>0</td>\n",
       "      <td>0.469</td>\n",
       "      <td>7.185</td>\n",
       "      <td>61.1</td>\n",
       "      <td>4.9671</td>\n",
       "      <td>2</td>\n",
       "      <td>242.0</td>\n",
       "      <td>17.8</td>\n",
       "      <td>392.83</td>\n",
       "      <td>4.03</td>\n",
       "      <td>34.7</td>\n",
       "    </tr>\n",
       "    <tr>\n",
       "      <th>3</th>\n",
       "      <td>0.03237</td>\n",
       "      <td>0.0</td>\n",
       "      <td>2.18</td>\n",
       "      <td>0</td>\n",
       "      <td>0.458</td>\n",
       "      <td>6.998</td>\n",
       "      <td>45.8</td>\n",
       "      <td>6.0622</td>\n",
       "      <td>3</td>\n",
       "      <td>222.0</td>\n",
       "      <td>18.7</td>\n",
       "      <td>394.63</td>\n",
       "      <td>2.94</td>\n",
       "      <td>33.4</td>\n",
       "    </tr>\n",
       "    <tr>\n",
       "      <th>4</th>\n",
       "      <td>0.06905</td>\n",
       "      <td>0.0</td>\n",
       "      <td>2.18</td>\n",
       "      <td>0</td>\n",
       "      <td>0.458</td>\n",
       "      <td>7.147</td>\n",
       "      <td>54.2</td>\n",
       "      <td>6.0622</td>\n",
       "      <td>3</td>\n",
       "      <td>222.0</td>\n",
       "      <td>18.7</td>\n",
       "      <td>396.90</td>\n",
       "      <td>5.33</td>\n",
       "      <td>36.2</td>\n",
       "    </tr>\n",
       "  </tbody>\n",
       "</table>\n",
       "</div>"
      ],
      "text/plain": [
       "      CRIM    ZN  INDUS  CHAS    NOX     RM   AGE     DIS  RAD    TAX  \\\n",
       "0  0.00632  18.0   2.31     0  0.538  6.575  65.2  4.0900    1  296.0   \n",
       "1  0.02731   0.0   7.07     0  0.469  6.421  78.9  4.9671    2  242.0   \n",
       "2  0.02729   0.0   7.07     0  0.469  7.185  61.1  4.9671    2  242.0   \n",
       "3  0.03237   0.0   2.18     0  0.458  6.998  45.8  6.0622    3  222.0   \n",
       "4  0.06905   0.0   2.18     0  0.458  7.147  54.2  6.0622    3  222.0   \n",
       "\n",
       "   PTRATIO       B  LSTAT  MEDV  \n",
       "0     15.3  396.90   4.98  24.0  \n",
       "1     17.8  396.90   9.14  21.6  \n",
       "2     17.8  392.83   4.03  34.7  \n",
       "3     18.7  394.63   2.94  33.4  \n",
       "4     18.7  396.90   5.33  36.2  "
      ]
     },
     "execution_count": 3,
     "metadata": {},
     "output_type": "execute_result"
    }
   ],
   "source": [
    "import pandas as pd\n",
    "import math\n",
    "\n",
    "import matplotlib.pyplot as plt\n",
    "from sklearn.linear_model import LinearRegression\n",
    "import numpy as np\n",
    "column_names = ['CRIM', 'ZN', 'INDUS', 'CHAS', 'NOX', 'RM', 'AGE', 'DIS', 'RAD', 'TAX', 'PTRATIO', 'B', 'LSTAT', 'MEDV']\n",
    "boston = pd.read_csv(\"C:/Users/can/Desktop/housing.csv\",names = column_names,delimiter=r\"\\s+\")\n",
    "boston.head()"
   ]
  },
  {
   "cell_type": "code",
   "execution_count": 4,
   "id": "c00a6173",
   "metadata": {},
   "outputs": [],
   "source": [
    "y = boston[\"MEDV\"]\n",
    "X = boston.drop(\"MEDV\",axis=1)\n"
   ]
  },
  {
   "cell_type": "code",
   "execution_count": 5,
   "id": "dda1526d",
   "metadata": {},
   "outputs": [],
   "source": [
    "model = LinearRegression().fit(X,y)"
   ]
  },
  {
   "cell_type": "code",
   "execution_count": 6,
   "id": "c55783e9",
   "metadata": {},
   "outputs": [
    {
     "name": "stdout",
     "output_type": "stream",
     "text": [
      " Açıklanma yüzdesi : 74.06\n"
     ]
    }
   ],
   "source": [
    "yh = model.predict(X)\n",
    "SSres = sum((y-yh)**2)\n",
    "SSt = sum((y-np.mean(y))**2)\n",
    "SSr = SSt - SSres \n",
    "R2 = 100*(SSr / SSt)\n",
    "print(\" Açıklanma yüzdesi : %.2f\" % R2)"
   ]
  },
  {
   "cell_type": "code",
   "execution_count": 7,
   "id": "a953f7e2",
   "metadata": {},
   "outputs": [
    {
     "data": {
      "text/plain": [
       "0.7406426641094094"
      ]
     },
     "execution_count": 7,
     "metadata": {},
     "output_type": "execute_result"
    }
   ],
   "source": [
    "model.score(X,y) #şeklinde de hesaplanabilir."
   ]
  },
  {
   "cell_type": "markdown",
   "id": "34cf583b",
   "metadata": {},
   "source": [
    "<br>\n",
    "<br>"
   ]
  },
  {
   "cell_type": "markdown",
   "id": "86bd48c1",
   "metadata": {},
   "source": [
    "# Düzeltilmiş R² \n",
    "### R²'nin olumsuz tarafı modele değişken eklendikçe artmasıdır bu olumsuzluğu ortadan kaldırmak için R² değeri hesaplanır."
   ]
  },
  {
   "attachments": {
    "reg_adjustedr2equation.png": {
     "image/png": "[encoded data removed]"
    }
   },
   "cell_type": "markdown",
   "id": "bf6632c5",
   "metadata": {},
   "source": [
    "### n = Gözlem sayısı\n",
    "### k = X sayısı(Bağımsız değişken sayısı)\n",
    "### p = k-1\n",
    "<br>\n",
    "<br>\n",
    "\n",
    "\n",
    "### Düzeltilmiş R² = 1 - SSres / (n-p) / SSt/(n-1)\n",
    "![reg_adjustedr2equation.png](attachment:reg_adjustedr2equation.png)"
   ]
  },
  {
   "cell_type": "code",
   "execution_count": 8,
   "id": "602ddc87",
   "metadata": {},
   "outputs": [
    {
     "name": "stdout",
     "output_type": "stream",
     "text": [
      "Düzeltilmiş R² =  73.12\n"
     ]
    }
   ],
   "source": [
    "n = len(y)\n",
    "k = X.shape[1]\n",
    "p = k-1\n",
    "adj_R2 = 100*(1-(SSres / (n-p)) / (SSt / n-1))\n",
    "print(\"Düzeltilmiş R² =  %.2f\" % adj_R2)"
   ]
  },
  {
   "cell_type": "markdown",
   "id": "617e595f",
   "metadata": {},
   "source": [
    "<br>\n",
    "<br>"
   ]
  },
  {
   "cell_type": "markdown",
   "id": "cfe24063",
   "metadata": {},
   "source": [
    "## Bir modelin başarısını ölçmek için kullanılabilecek farklı ölçütler de vardır . Bu ölçütler genel olarak fazla değişken sayısını cezalandırarak gereksiz değişkenlerin yer almasını engeller."
   ]
  },
  {
   "cell_type": "markdown",
   "id": "8a7e0c33",
   "metadata": {},
   "source": [
    "<br>"
   ]
  },
  {
   "cell_type": "markdown",
   "id": "4801d1e0",
   "metadata": {},
   "source": [
    "# Mallow Cp:\n",
    "### Cp hesaplamasında SSres değerine 2pϭ² değeri eklenerek gereksiz bağımsız değişken sayısı arttıkça Cp değerinin artması sağlanır."
   ]
  },
  {
   "cell_type": "markdown",
   "id": "510da50f",
   "metadata": {},
   "source": [
    "## n = Gözlem sayısı\n",
    "## k = X sayısı(Bağımsız değişken sayısı)\n",
    "## Sigma kare(ϭ²) = Hata terimlerinin standart sapmanın karesidir.Yani varyans değeridir. Ya da Hata Kareler Ortalamasıdır.\n",
    "## Cp = 1/n * (SSres + 2 * k * ϭ²) "
   ]
  },
  {
   "cell_type": "code",
   "execution_count": 9,
   "id": "d0fa1095",
   "metadata": {},
   "outputs": [],
   "source": [
    "y = boston[\"MEDV\"]\n",
    "X = boston.drop(\"MEDV\",axis=1)\n",
    "model = LinearRegression().fit(X,y)"
   ]
  },
  {
   "cell_type": "code",
   "execution_count": 10,
   "id": "60543053",
   "metadata": {},
   "outputs": [
    {
     "name": "stdout",
     "output_type": "stream",
     "text": [
      "Cp değeri:  23.019862032964337\n"
     ]
    }
   ],
   "source": [
    "n = len(y)\n",
    "k = X.shape[1]\n",
    "y_tahmin = model.predict(X)\n",
    "SSres = sum((y-y_tahmin)**2)\n",
    "var = np.var(y-y_tahmin)\n",
    "cp = (SSres + 2 * k * var ) / n\n",
    "print(\"Cp değeri: \",cp)"
   ]
  },
  {
   "cell_type": "markdown",
   "id": "0056b516",
   "metadata": {},
   "source": [
    "### Mallow's Cp değerinin farklı formülleri bulunmaktadır fakat farklı modellerin sıralanmasında aynı sonucu verdikleri için bu farklılık önem taşımamaktadır."
   ]
  },
  {
   "cell_type": "markdown",
   "id": "32907905",
   "metadata": {},
   "source": [
    "<br>"
   ]
  },
  {
   "cell_type": "markdown",
   "id": "6c1f1d0d",
   "metadata": {},
   "source": [
    "# Akaike Bilgi Kriteri (AIC , Akaike Information Criterion)\n",
    "### Cp ve AIC orantılı sonuc verir ve aynı şekilde yorumlanır.\n",
    "## AIC = 1/n*ϭ² / (SSres +2 * k * ϭ²)\n"
   ]
  },
  {
   "cell_type": "code",
   "execution_count": 11,
   "id": "ae159718",
   "metadata": {},
   "outputs": [
    {
     "name": "stdout",
     "output_type": "stream",
     "text": [
      "AIC değeri:  504.01599303845256\n"
     ]
    }
   ],
   "source": [
    "n = len(y)\n",
    "k = X.shape[1]\n",
    "y_tahmin = model.predict(X)\n",
    "SSres = sum((y-y_tahmin)**2)\n",
    "var = np.var(y-y_tahmin)\n",
    "AIC = (SSres + 2 * k * var ) / n*var\n",
    "print(\"AIC değeri: \",AIC)"
   ]
  },
  {
   "cell_type": "markdown",
   "id": "058bc189",
   "metadata": {},
   "source": [
    "<br>"
   ]
  },
  {
   "cell_type": "markdown",
   "id": "369eab7d",
   "metadata": {},
   "source": [
    "# Bayes Bilgi Kriteri(BIC , Bayesian Information Criterion):\n",
    "### BIC modelin SSres değerine ln(n)*k* ϭ² kadar ceza puanı ekler. Buradaki ln(n) modeldeki gözlem sayısının doğal logaritmasını ifade eder. Bu nedenle gözlem sayısı 7'den büyükse ln(n) değeri de 2'den büyük olur ve modele eklenen ceza puanı AIC'e göre fazla olacaktır."
   ]
  },
  {
   "cell_type": "markdown",
   "id": "b5c04705",
   "metadata": {},
   "source": [
    "## BIC = 1/n*ϭ² / (SSres + ln(n) * 2 * k * ϭ²)\n"
   ]
  },
  {
   "cell_type": "code",
   "execution_count": 12,
   "id": "b635588b",
   "metadata": {},
   "outputs": [
    {
     "name": "stdout",
     "output_type": "stream",
     "text": [
      "BIC değeri:  632.7579287670108\n"
     ]
    }
   ],
   "source": [
    "n = len(y)\n",
    "k = X.shape[1]\n",
    "y_tahmin = model.predict(X)\n",
    "ln = np.log(n)\n",
    "SSres = sum((y-y_tahmin)**2)\n",
    "var = np.var(y-y_tahmin)\n",
    "BIC = (SSres + ln * 2 * k * var ) / n*var\n",
    "print(\"BIC değeri: \",BIC)"
   ]
  },
  {
   "cell_type": "markdown",
   "id": "aaf84ff4",
   "metadata": {},
   "source": [
    "# --------------------------------------------------------------------------------------------"
   ]
  },
  {
   "cell_type": "markdown",
   "id": "ff26d90a",
   "metadata": {},
   "source": [
    "<br>"
   ]
  },
  {
   "cell_type": "markdown",
   "id": "10b1482e",
   "metadata": {},
   "source": [
    "## Model değerlendirme yöntemlerine değindiğimize göre model seçimi konusuna devam edelim."
   ]
  },
  {
   "cell_type": "markdown",
   "id": "e38a6624",
   "metadata": {},
   "source": [
    "## Yukarıda anlatılan yöntem ileri adım adım seçme yöntemidir. Bu yönteme benzer olarak diğer bir yöntem ise geriye adım adım model seçme yöntemidir. Bu yöntemde önce tüm değişkenler modelde yer alır sonrasında değişkenler bir bir çıkarılarak en iyi model bulunur."
   ]
  },
  {
   "cell_type": "markdown",
   "id": "3e7f77c7",
   "metadata": {},
   "source": [
    "## Adım adım yöntemleri diğer yönteme göre daha hızlı verse bile bu yöntem her zaman en iyi modeli vermeyebilir. Örneğin iki değişkenli model olan XY modeli yerine UV modeli ile devam etmiş olabiliriz. Amcal XY sonraki adımlarda bir başka değişkenlerle birlikte daha iyi sonuç veriyor olabilir. Biz UV ile devam ederek bunu göz ardı ederiz."
   ]
  },
  {
   "cell_type": "markdown",
   "id": "313f50c6",
   "metadata": {},
   "source": [
    "<br>"
   ]
  },
  {
   "cell_type": "markdown",
   "id": "ab950b81",
   "metadata": {},
   "source": [
    "## Model seçiminde kullanılan bir başka yaklaşım ise tüm değişkenleri kullanan ancak gereksiz değişkenlere 0 veya 0'a yakın değerler veren bağlanım yöntemleridir."
   ]
  },
  {
   "cell_type": "markdown",
   "id": "ba52dd67",
   "metadata": {},
   "source": [
    "<br>\n",
    "<br>"
   ]
  },
  {
   "cell_type": "markdown",
   "id": "aaa1e393",
   "metadata": {},
   "source": [
    "# Ridge Yöntemi"
   ]
  },
  {
   "cell_type": "markdown",
   "id": "17d6981d",
   "metadata": {},
   "source": [
    "## Ridge Yöntemi SSres(Hata Kareler Toplamı) terimine yeni bir terim ekleyerek modele katkısı olmayan değişkelerin beta katsayılarını küçültmeyi amaçlar . "
   ]
  },
  {
   "cell_type": "markdown",
   "id": "034980a0",
   "metadata": {},
   "source": [
    "<br>"
   ]
  },
  {
   "cell_type": "markdown",
   "id": "8815392c",
   "metadata": {},
   "source": [
    "## SSres +  α∑(j=1'den k'ya kadar) βj²"
   ]
  },
  {
   "attachments": {
    "1_Y-ci-DqLaT47WhEnYhGWgw.webp": {
     "image/webp": "[encoded data removed]"
    }
   },
   "cell_type": "markdown",
   "id": "f3ee660c",
   "metadata": {},
   "source": [
    "![1_Y-ci-DqLaT47WhEnYhGWgw.webp](attachment:1_Y-ci-DqLaT47WhEnYhGWgw.webp)"
   ]
  },
  {
   "cell_type": "markdown",
   "id": "7f6e3cfb",
   "metadata": {},
   "source": [
    "## α katsayısı SSres'e eklenen bir ceza olarak düşünülebilir. α yardımıyla beta katsayıları küçültülmüş olur . Eğer α sıfır olursa sonuç da En Küçük Kareler toplamı ile aynı olur . \n",
    "<br>\n",
    "\n",
    "## α değeri büyüdükçe beta katsayıları sıfıra yaklaşır. Bundan dolayı seçilecek α katsayısı çok önemlidir . En başarılı sonucu çarpaz doğrulama yöntemleri kullanarak bulabilir . (Cross Validation)\n"
   ]
  },
  {
   "cell_type": "code",
   "execution_count": 13,
   "id": "8a1da224",
   "metadata": {
    "scrolled": true
   },
   "outputs": [],
   "source": [
    "from sklearn.linear_model import Ridge\n",
    "from sklearn.model_selection import cross_val_score\n",
    "\n",
    "alpha_degerler = np.logspace(-4,0.1,100)\n",
    "ridge_R2 = []\n",
    "ridge_model = Ridge(random_state=45)\n"
   ]
  },
  {
   "cell_type": "code",
   "execution_count": 14,
   "id": "0f445ada",
   "metadata": {},
   "outputs": [
    {
     "data": {
      "text/plain": [
       "0.7388703133867616"
      ]
     },
     "execution_count": 14,
     "metadata": {},
     "output_type": "execute_result"
    }
   ],
   "source": [
    "ridge_first_model = Ridge(random_state=45).fit(X,y)\n",
    "ridgescore1 = ridge_first_model.score(X,y)\n",
    "ridgescore1"
   ]
  },
  {
   "cell_type": "code",
   "execution_count": 15,
   "id": "3b947820",
   "metadata": {},
   "outputs": [],
   "source": [
    "for alpha in alpha_degerler:\n",
    "    ridge_model.alpha = alpha\n",
    "    ridge_cv = cross_val_score(ridge_model,X,y,cv=5)\n",
    "    ridge_R2.append(np.mean(ridge_cv))\n",
    "    "
   ]
  },
  {
   "cell_type": "code",
   "execution_count": 16,
   "id": "bb8e7b9e",
   "metadata": {},
   "outputs": [
    {
     "data": {
      "text/plain": [
       "99"
      ]
     },
     "execution_count": 16,
     "metadata": {},
     "output_type": "execute_result"
    }
   ],
   "source": [
    "ind = ridge_R2.index(max(ridge_R2))\n",
    "ind"
   ]
  },
  {
   "cell_type": "code",
   "execution_count": 17,
   "id": "16c02489",
   "metadata": {},
   "outputs": [
    {
     "data": {
      "text/plain": [
       "1.2589254117941673"
      ]
     },
     "execution_count": 17,
     "metadata": {},
     "output_type": "execute_result"
    }
   ],
   "source": [
    "alpha_degerler[ind]"
   ]
  },
  {
   "cell_type": "code",
   "execution_count": 18,
   "id": "f1ff5349",
   "metadata": {
    "scrolled": false
   },
   "outputs": [
    {
     "data": {
      "text/html": [
       "<style>#sk-container-id-1 {color: black;background-color: white;}#sk-container-id-1 pre{padding: 0;}#sk-container-id-1 div.sk-toggleable {background-color: white;}#sk-container-id-1 label.sk-toggleable__label {cursor: pointer;display: block;width: 100%;margin-bottom: 0;padding: 0.3em;box-sizing: border-box;text-align: center;}#sk-container-id-1 label.sk-toggleable__label-arrow:before {content: \"▸\";float: left;margin-right: 0.25em;color: #696969;}#sk-container-id-1 label.sk-toggleable__label-arrow:hover:before {color: black;}#sk-container-id-1 div.sk-estimator:hover label.sk-toggleable__label-arrow:before {color: black;}#sk-container-id-1 div.sk-toggleable__content {max-height: 0;max-width: 0;overflow: hidden;text-align: left;background-color: #f0f8ff;}#sk-container-id-1 div.sk-toggleable__content pre {margin: 0.2em;color: black;border-radius: 0.25em;background-color: #f0f8ff;}#sk-container-id-1 input.sk-toggleable__control:checked~div.sk-toggleable__content {max-height: 200px;max-width: 100%;overflow: auto;}#sk-container-id-1 input.sk-toggleable__control:checked~label.sk-toggleable__label-arrow:before {content: \"▾\";}#sk-container-id-1 div.sk-estimator input.sk-toggleable__control:checked~label.sk-toggleable__label {background-color: #d4ebff;}#sk-container-id-1 div.sk-label input.sk-toggleable__control:checked~label.sk-toggleable__label {background-color: #d4ebff;}#sk-container-id-1 input.sk-hidden--visually {border: 0;clip: rect(1px 1px 1px 1px);clip: rect(1px, 1px, 1px, 1px);height: 1px;margin: -1px;overflow: hidden;padding: 0;position: absolute;width: 1px;}#sk-container-id-1 div.sk-estimator {font-family: monospace;background-color: #f0f8ff;border: 1px dotted black;border-radius: 0.25em;box-sizing: border-box;margin-bottom: 0.5em;}#sk-container-id-1 div.sk-estimator:hover {background-color: #d4ebff;}#sk-container-id-1 div.sk-parallel-item::after {content: \"\";width: 100%;border-bottom: 1px solid gray;flex-grow: 1;}#sk-container-id-1 div.sk-label:hover label.sk-toggleable__label {background-color: #d4ebff;}#sk-container-id-1 div.sk-serial::before {content: \"\";position: absolute;border-left: 1px solid gray;box-sizing: border-box;top: 0;bottom: 0;left: 50%;z-index: 0;}#sk-container-id-1 div.sk-serial {display: flex;flex-direction: column;align-items: center;background-color: white;padding-right: 0.2em;padding-left: 0.2em;position: relative;}#sk-container-id-1 div.sk-item {position: relative;z-index: 1;}#sk-container-id-1 div.sk-parallel {display: flex;align-items: stretch;justify-content: center;background-color: white;position: relative;}#sk-container-id-1 div.sk-item::before, #sk-container-id-1 div.sk-parallel-item::before {content: \"\";position: absolute;border-left: 1px solid gray;box-sizing: border-box;top: 0;bottom: 0;left: 50%;z-index: -1;}#sk-container-id-1 div.sk-parallel-item {display: flex;flex-direction: column;z-index: 1;position: relative;background-color: white;}#sk-container-id-1 div.sk-parallel-item:first-child::after {align-self: flex-end;width: 50%;}#sk-container-id-1 div.sk-parallel-item:last-child::after {align-self: flex-start;width: 50%;}#sk-container-id-1 div.sk-parallel-item:only-child::after {width: 0;}#sk-container-id-1 div.sk-dashed-wrapped {border: 1px dashed gray;margin: 0 0.4em 0.5em 0.4em;box-sizing: border-box;padding-bottom: 0.4em;background-color: white;}#sk-container-id-1 div.sk-label label {font-family: monospace;font-weight: bold;display: inline-block;line-height: 1.2em;}#sk-container-id-1 div.sk-label-container {text-align: center;}#sk-container-id-1 div.sk-container {/* jupyter's `normalize.less` sets `[hidden] { display: none; }` but bootstrap.min.css set `[hidden] { display: none !important; }` so we also need the `!important` here to be able to override the default hidden behavior on the sphinx rendered scikit-learn.org. See: https://github.com/scikit-learn/scikit-learn/issues/21755 */display: inline-block !important;position: relative;}#sk-container-id-1 div.sk-text-repr-fallback {display: none;}</style><div id=\"sk-container-id-1\" class=\"sk-top-container\"><div class=\"sk-text-repr-fallback\"><pre>Ridge(alpha=1.2589254117941673, random_state=45)</pre><b>In a Jupyter environment, please rerun this cell to show the HTML representation or trust the notebook. <br />On GitHub, the HTML representation is unable to render, please try loading this page with nbviewer.org.</b></div><div class=\"sk-container\" hidden><div class=\"sk-item\"><div class=\"sk-estimator sk-toggleable\"><input class=\"sk-toggleable__control sk-hidden--visually\" id=\"sk-estimator-id-1\" type=\"checkbox\" checked><label for=\"sk-estimator-id-1\" class=\"sk-toggleable__label sk-toggleable__label-arrow\">Ridge</label><div class=\"sk-toggleable__content\"><pre>Ridge(alpha=1.2589254117941673, random_state=45)</pre></div></div></div></div></div>"
      ],
      "text/plain": [
       "Ridge(alpha=1.2589254117941673, random_state=45)"
      ]
     },
     "execution_count": 18,
     "metadata": {},
     "output_type": "execute_result"
    }
   ],
   "source": [
    "ridge_final_model = Ridge(alpha=1.2589254117941673,random_state=45)\n",
    "ridge_final_model.fit(X,y)\n"
   ]
  },
  {
   "cell_type": "code",
   "execution_count": 19,
   "id": "e68ad246",
   "metadata": {
    "scrolled": true
   },
   "outputs": [
    {
     "data": {
      "text/plain": [
       "0.7383270778750595"
      ]
     },
     "execution_count": 19,
     "metadata": {},
     "output_type": "execute_result"
    }
   ],
   "source": [
    "ridge_final_model.score(X,y)"
   ]
  },
  {
   "cell_type": "code",
   "execution_count": 20,
   "id": "1bbbf3a4",
   "metadata": {},
   "outputs": [
    {
     "data": {
      "text/plain": [
       "30.932346337634662"
      ]
     },
     "execution_count": 20,
     "metadata": {},
     "output_type": "execute_result"
    }
   ],
   "source": [
    "ridge_final_model.intercept_"
   ]
  },
  {
   "cell_type": "code",
   "execution_count": 21,
   "id": "b6528db5",
   "metadata": {
    "scrolled": true
   },
   "outputs": [
    {
     "name": "stdout",
     "output_type": "stream",
     "text": [
      "[-1.04126361e-01  4.76039840e-02 -1.29625276e-02  2.52489277e+00\n",
      " -9.78055408e+00  3.85705515e+00 -6.25166773e-03 -1.35800114e+00\n",
      "  2.88022545e-01 -1.30007939e-02 -8.65392041e-01  9.72391314e-03\n",
      " -5.34821215e-01]\n"
     ]
    }
   ],
   "source": [
    "print(ridge_final_model.coef_)"
   ]
  },
  {
   "cell_type": "code",
   "execution_count": 22,
   "id": "9b6d7691",
   "metadata": {},
   "outputs": [
    {
     "data": {
      "text/plain": [
       "0.7383270778750595"
      ]
     },
     "execution_count": 22,
     "metadata": {},
     "output_type": "execute_result"
    }
   ],
   "source": [
    "ridgescore2 = ridge_final_model.score(X,y)\n",
    "ridgescore2"
   ]
  },
  {
   "cell_type": "code",
   "execution_count": 23,
   "id": "8c84301e",
   "metadata": {
    "scrolled": false
   },
   "outputs": [
    {
     "name": "stdout",
     "output_type": "stream",
     "text": [
      "Alpha değeri optimize edilmeden önceki belirtme katsayısı 0.7388703133867616 \n",
      "En optimal alpha değeri bulunduktan sonraki belirtme katsayısı 0.7383270778750595\n"
     ]
    }
   ],
   "source": [
    "print(\"Alpha değeri optimize edilmeden önceki belirtme katsayısı\",ridgescore1 , \"\\nEn optimal alpha değeri bulunduktan sonraki belirtme katsayısı\",ridgescore2)"
   ]
  },
  {
   "cell_type": "code",
   "execution_count": 24,
   "id": "d6cf8acd",
   "metadata": {},
   "outputs": [
    {
     "name": "stdout",
     "output_type": "stream",
     "text": [
      "Belirtme katsayısı %  -0.05432355117021004 azalmıştır.\n"
     ]
    }
   ],
   "source": [
    "print(\"Belirtme katsayısı % \",100*(ridgescore2-ridgescore1),\"azalmıştır.\")"
   ]
  },
  {
   "cell_type": "markdown",
   "id": "8762bd1b",
   "metadata": {},
   "source": [
    "<br>\n",
    "<br>"
   ]
  },
  {
   "cell_type": "markdown",
   "id": "45be3912",
   "metadata": {},
   "source": [
    "<br>\n",
    "<br>"
   ]
  },
  {
   "cell_type": "markdown",
   "id": "0b67f45c",
   "metadata": {},
   "source": [
    "## Lasso Yöntemi"
   ]
  },
  {
   "cell_type": "markdown",
   "id": "731ec6a0",
   "metadata": {},
   "source": [
    "## Ridge Yöntemine çok benzer . Amaç yine modele katkısı en az olan değişkenlerin katsayısını küçültmektir. Ridge yöntemine göre avantajı sıfıra eşit katsayılar üreterek gereksiz değişkenlerin çıkarılmasına izin verilmesidir. Lassoda aşağıdaki değer en aza indirilmeye çalışılır. "
   ]
  },
  {
   "cell_type": "markdown",
   "id": "6db725b2",
   "metadata": {},
   "source": [
    "## SSres +  α∑(j=1'den k'ya kadar) |βj|"
   ]
  },
  {
   "attachments": {
    "indir.png": {
     "image/png": "[encoded data removed]"
    }
   },
   "cell_type": "markdown",
   "id": "19bb813e",
   "metadata": {},
   "source": [
    "![indir.png](attachment:indir.png)"
   ]
  },
  {
   "cell_type": "code",
   "execution_count": 25,
   "id": "ae5f4092",
   "metadata": {},
   "outputs": [],
   "source": [
    "from sklearn.linear_model import Lasso\n",
    "from sklearn.model_selection import GridSearchCV"
   ]
  },
  {
   "cell_type": "code",
   "execution_count": 26,
   "id": "d054870b",
   "metadata": {},
   "outputs": [],
   "source": [
    "alpha_degerler = np.logspace(-4,30,300)\n",
    "alpha_degerler\n",
    "lasso_R2 = []\n",
    "lasso_model = Lasso(random_state=45)"
   ]
  },
  {
   "cell_type": "code",
   "execution_count": 27,
   "id": "083853af",
   "metadata": {},
   "outputs": [
    {
     "data": {
      "text/plain": [
       "0.6825842212709925"
      ]
     },
     "execution_count": 27,
     "metadata": {},
     "output_type": "execute_result"
    }
   ],
   "source": [
    "lasso_first_model = Lasso(random_state=45).fit(X,y)\n",
    "lassoscore1 = lasso_first_model.score(X,y)\n",
    "lassoscore1"
   ]
  },
  {
   "cell_type": "code",
   "execution_count": 28,
   "id": "df7590e5",
   "metadata": {},
   "outputs": [],
   "source": [
    "for alpha in alpha_degerler:\n",
    "    lasso_model.alpha = alpha\n",
    "    lasso_cv = cross_val_score(lasso_model,X,y,cv=5)\n",
    "    lasso_R2.append(np.mean(lasso_cv))\n",
    "    "
   ]
  },
  {
   "cell_type": "code",
   "execution_count": 29,
   "id": "e61b568c",
   "metadata": {},
   "outputs": [
    {
     "data": {
      "text/plain": [
       "35"
      ]
     },
     "execution_count": 29,
     "metadata": {},
     "output_type": "execute_result"
    }
   ],
   "source": [
    "ind = lasso_R2.index(max(lasso_R2))\n",
    "ind"
   ]
  },
  {
   "cell_type": "code",
   "execution_count": 30,
   "id": "6a7e9145",
   "metadata": {},
   "outputs": [
    {
     "data": {
      "text/plain": [
       "0.9548455102782284"
      ]
     },
     "execution_count": 30,
     "metadata": {},
     "output_type": "execute_result"
    }
   ],
   "source": [
    "alpha_degerler[ind]"
   ]
  },
  {
   "cell_type": "code",
   "execution_count": 31,
   "id": "9955e2f5",
   "metadata": {},
   "outputs": [
    {
     "data": {
      "text/html": [
       "<style>#sk-container-id-2 {color: black;background-color: white;}#sk-container-id-2 pre{padding: 0;}#sk-container-id-2 div.sk-toggleable {background-color: white;}#sk-container-id-2 label.sk-toggleable__label {cursor: pointer;display: block;width: 100%;margin-bottom: 0;padding: 0.3em;box-sizing: border-box;text-align: center;}#sk-container-id-2 label.sk-toggleable__label-arrow:before {content: \"▸\";float: left;margin-right: 0.25em;color: #696969;}#sk-container-id-2 label.sk-toggleable__label-arrow:hover:before {color: black;}#sk-container-id-2 div.sk-estimator:hover label.sk-toggleable__label-arrow:before {color: black;}#sk-container-id-2 div.sk-toggleable__content {max-height: 0;max-width: 0;overflow: hidden;text-align: left;background-color: #f0f8ff;}#sk-container-id-2 div.sk-toggleable__content pre {margin: 0.2em;color: black;border-radius: 0.25em;background-color: #f0f8ff;}#sk-container-id-2 input.sk-toggleable__control:checked~div.sk-toggleable__content {max-height: 200px;max-width: 100%;overflow: auto;}#sk-container-id-2 input.sk-toggleable__control:checked~label.sk-toggleable__label-arrow:before {content: \"▾\";}#sk-container-id-2 div.sk-estimator input.sk-toggleable__control:checked~label.sk-toggleable__label {background-color: #d4ebff;}#sk-container-id-2 div.sk-label input.sk-toggleable__control:checked~label.sk-toggleable__label {background-color: #d4ebff;}#sk-container-id-2 input.sk-hidden--visually {border: 0;clip: rect(1px 1px 1px 1px);clip: rect(1px, 1px, 1px, 1px);height: 1px;margin: -1px;overflow: hidden;padding: 0;position: absolute;width: 1px;}#sk-container-id-2 div.sk-estimator {font-family: monospace;background-color: #f0f8ff;border: 1px dotted black;border-radius: 0.25em;box-sizing: border-box;margin-bottom: 0.5em;}#sk-container-id-2 div.sk-estimator:hover {background-color: #d4ebff;}#sk-container-id-2 div.sk-parallel-item::after {content: \"\";width: 100%;border-bottom: 1px solid gray;flex-grow: 1;}#sk-container-id-2 div.sk-label:hover label.sk-toggleable__label {background-color: #d4ebff;}#sk-container-id-2 div.sk-serial::before {content: \"\";position: absolute;border-left: 1px solid gray;box-sizing: border-box;top: 0;bottom: 0;left: 50%;z-index: 0;}#sk-container-id-2 div.sk-serial {display: flex;flex-direction: column;align-items: center;background-color: white;padding-right: 0.2em;padding-left: 0.2em;position: relative;}#sk-container-id-2 div.sk-item {position: relative;z-index: 1;}#sk-container-id-2 div.sk-parallel {display: flex;align-items: stretch;justify-content: center;background-color: white;position: relative;}#sk-container-id-2 div.sk-item::before, #sk-container-id-2 div.sk-parallel-item::before {content: \"\";position: absolute;border-left: 1px solid gray;box-sizing: border-box;top: 0;bottom: 0;left: 50%;z-index: -1;}#sk-container-id-2 div.sk-parallel-item {display: flex;flex-direction: column;z-index: 1;position: relative;background-color: white;}#sk-container-id-2 div.sk-parallel-item:first-child::after {align-self: flex-end;width: 50%;}#sk-container-id-2 div.sk-parallel-item:last-child::after {align-self: flex-start;width: 50%;}#sk-container-id-2 div.sk-parallel-item:only-child::after {width: 0;}#sk-container-id-2 div.sk-dashed-wrapped {border: 1px dashed gray;margin: 0 0.4em 0.5em 0.4em;box-sizing: border-box;padding-bottom: 0.4em;background-color: white;}#sk-container-id-2 div.sk-label label {font-family: monospace;font-weight: bold;display: inline-block;line-height: 1.2em;}#sk-container-id-2 div.sk-label-container {text-align: center;}#sk-container-id-2 div.sk-container {/* jupyter's `normalize.less` sets `[hidden] { display: none; }` but bootstrap.min.css set `[hidden] { display: none !important; }` so we also need the `!important` here to be able to override the default hidden behavior on the sphinx rendered scikit-learn.org. See: https://github.com/scikit-learn/scikit-learn/issues/21755 */display: inline-block !important;position: relative;}#sk-container-id-2 div.sk-text-repr-fallback {display: none;}</style><div id=\"sk-container-id-2\" class=\"sk-top-container\"><div class=\"sk-text-repr-fallback\"><pre>Ridge(alpha=0.859693086719078, random_state=45)</pre><b>In a Jupyter environment, please rerun this cell to show the HTML representation or trust the notebook. <br />On GitHub, the HTML representation is unable to render, please try loading this page with nbviewer.org.</b></div><div class=\"sk-container\" hidden><div class=\"sk-item\"><div class=\"sk-estimator sk-toggleable\"><input class=\"sk-toggleable__control sk-hidden--visually\" id=\"sk-estimator-id-2\" type=\"checkbox\" checked><label for=\"sk-estimator-id-2\" class=\"sk-toggleable__label sk-toggleable__label-arrow\">Ridge</label><div class=\"sk-toggleable__content\"><pre>Ridge(alpha=0.859693086719078, random_state=45)</pre></div></div></div></div></div>"
      ],
      "text/plain": [
       "Ridge(alpha=0.859693086719078, random_state=45)"
      ]
     },
     "execution_count": 31,
     "metadata": {},
     "output_type": "execute_result"
    }
   ],
   "source": [
    "lasso_final_model = Ridge(alpha=0.859693086719078,random_state=45)\n",
    "lasso_final_model.fit(X,y)\n"
   ]
  },
  {
   "cell_type": "code",
   "execution_count": 32,
   "id": "6408781f",
   "metadata": {},
   "outputs": [
    {
     "data": {
      "text/plain": [
       "32.02364004922876"
      ]
     },
     "execution_count": 32,
     "metadata": {},
     "output_type": "execute_result"
    }
   ],
   "source": [
    "lasso_final_model.intercept_"
   ]
  },
  {
   "cell_type": "code",
   "execution_count": 33,
   "id": "3e991594",
   "metadata": {
    "scrolled": true
   },
   "outputs": [
    {
     "data": {
      "text/plain": [
       "array([-1.04895135e-01,  4.73445974e-02, -6.17177518e-03,  2.56814477e+00,\n",
       "       -1.14067231e+01,  3.85142458e+00, -4.87887753e-03, -1.38191641e+00,\n",
       "        2.91510031e-01, -1.28566617e-02, -8.82873898e-01,  9.64109370e-03,\n",
       "       -5.32459699e-01])"
      ]
     },
     "execution_count": 33,
     "metadata": {},
     "output_type": "execute_result"
    }
   ],
   "source": [
    "lasso_final_model.coef_"
   ]
  },
  {
   "cell_type": "code",
   "execution_count": 34,
   "id": "28774ac2",
   "metadata": {},
   "outputs": [
    {
     "data": {
      "text/plain": [
       "0.739175880801628"
      ]
     },
     "execution_count": 34,
     "metadata": {},
     "output_type": "execute_result"
    }
   ],
   "source": [
    "lassoscore2 = lasso_final_model.score(X,y)\n",
    "lassoscore2\n"
   ]
  },
  {
   "cell_type": "code",
   "execution_count": 35,
   "id": "1d0d3ef7",
   "metadata": {},
   "outputs": [
    {
     "name": "stdout",
     "output_type": "stream",
     "text": [
      "Alpha değeri optimize edilmeden önceki belirtme katsayısı 0.6825842212709925 \n",
      "En optimal alpha değeri bulunduktan sonraki belirtme katsayısı 0.739175880801628\n"
     ]
    }
   ],
   "source": [
    "print(\"Alpha değeri optimize edilmeden önceki belirtme katsayısı\",lassoscore1 , \"\\nEn optimal alpha değeri bulunduktan sonraki belirtme katsayısı\",lassoscore2)"
   ]
  },
  {
   "cell_type": "code",
   "execution_count": 36,
   "id": "a119ae42",
   "metadata": {
    "scrolled": true
   },
   "outputs": [
    {
     "name": "stdout",
     "output_type": "stream",
     "text": [
      "Belirtme katsayısı % 5.65916595306355 artmıştır.\n"
     ]
    }
   ],
   "source": [
    "print(\"Belirtme katsayısı %\",100*(lassoscore2-lassoscore1),\"artmıştır.\")"
   ]
  },
  {
   "cell_type": "code",
   "execution_count": 37,
   "id": "3730faff",
   "metadata": {},
   "outputs": [
    {
     "name": "stdout",
     "output_type": "stream",
     "text": [
      "Ridge ve Lasso belirtme katsayıları arasında % 0.0848802926568526 fark vardır.\n"
     ]
    }
   ],
   "source": [
    "print(\"Ridge ve Lasso belirtme katsayıları arasında %\",100*(lassoscore2 - ridgescore2),\"fark vardır.\")"
   ]
  },
  {
   "cell_type": "code",
   "execution_count": null,
   "id": "1d5339c1",
   "metadata": {},
   "outputs": [],
   "source": []
  }
 ],
 "metadata": {
  "kernelspec": {
   "display_name": "Python 3 (ipykernel)",
   "language": "python",
   "name": "python3"
  },
  "language_info": {
   "codemirror_mode": {
    "name": "ipython",
    "version": 3
   },
   "file_extension": ".py",
   "mimetype": "text/x-python",
   "name": "python",
   "nbconvert_exporter": "python",
   "pygments_lexer": "ipython3",
   "version": "3.9.13"
  }
 },
 "nbformat": 4,
 "nbformat_minor": 5
}
